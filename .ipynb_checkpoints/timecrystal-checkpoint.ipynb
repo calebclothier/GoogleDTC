{
 "cells": [
  {
   "cell_type": "markdown",
   "metadata": {},
   "source": [
    "# Simulating a Discrete Time Crystal using Qiskit"
   ]
  },
  {
   "cell_type": "markdown",
   "metadata": {},
   "source": [
    "The companion Medium blog post to this Jupyter notebook can be found at LINK HERE."
   ]
  },
  {
   "cell_type": "markdown",
   "metadata": {},
   "source": [
    "### Import and initialize global variables"
   ]
  },
  {
   "cell_type": "code",
   "execution_count": 2,
   "metadata": {},
   "outputs": [
    {
     "ename": "ModuleNotFoundError",
     "evalue": "No module named 'qiskit'",
     "output_type": "error",
     "traceback": [
      "\u001b[0;31m---------------------------------------------------------------------------\u001b[0m",
      "\u001b[0;31mModuleNotFoundError\u001b[0m                       Traceback (most recent call last)",
      "\u001b[0;32m<ipython-input-2-1d41ccd47969>\u001b[0m in \u001b[0;36m<module>\u001b[0;34m\u001b[0m\n\u001b[1;32m      2\u001b[0m \u001b[0;32mimport\u001b[0m \u001b[0mmatplotlib\u001b[0m\u001b[0;34m.\u001b[0m\u001b[0mpyplot\u001b[0m \u001b[0;32mas\u001b[0m \u001b[0mplt\u001b[0m\u001b[0;34m\u001b[0m\u001b[0;34m\u001b[0m\u001b[0m\n\u001b[1;32m      3\u001b[0m \u001b[0;32mfrom\u001b[0m \u001b[0mmatplotlib\u001b[0m \u001b[0;32mimport\u001b[0m \u001b[0mcolors\u001b[0m\u001b[0;34m\u001b[0m\u001b[0;34m\u001b[0m\u001b[0m\n\u001b[0;32m----> 4\u001b[0;31m \u001b[0;32mfrom\u001b[0m \u001b[0mqiskit\u001b[0m \u001b[0;32mimport\u001b[0m \u001b[0mIBMQ\u001b[0m\u001b[0;34m,\u001b[0m \u001b[0massemble\u001b[0m\u001b[0;34m,\u001b[0m \u001b[0mtranspile\u001b[0m\u001b[0;34m\u001b[0m\u001b[0;34m\u001b[0m\u001b[0m\n\u001b[0m\u001b[1;32m      5\u001b[0m \u001b[0;32mfrom\u001b[0m \u001b[0mqiskit\u001b[0m \u001b[0;32mimport\u001b[0m \u001b[0mQuantumCircuit\u001b[0m\u001b[0;34m\u001b[0m\u001b[0;34m\u001b[0m\u001b[0m\n",
      "\u001b[0;31mModuleNotFoundError\u001b[0m: No module named 'qiskit'"
     ]
    }
   ],
   "source": [
    "import numpy as np\n",
    "import matplotlib.pyplot as plt\n",
    "from matplotlib import colors\n",
    "from qiskit import IBMQ, assemble, transpile\n",
    "from qiskit import QuantumCircuit"
   ]
  },
  {
   "cell_type": "code",
   "execution_count": null,
   "metadata": {},
   "outputs": [],
   "source": [
    "N_QUBITS = 20 # Number of qubits used in Google paper"
   ]
  },
  {
   "cell_type": "markdown",
   "metadata": {},
   "source": [
    "### Initialize IBMQ backend"
   ]
  },
  {
   "cell_type": "code",
   "execution_count": 73,
   "metadata": {},
   "outputs": [
    {
     "name": "stderr",
     "output_type": "stream",
     "text": [
      "ibmqfactory.load_account:WARNING:2021-08-11 10:51:50,609: Credentials are already in use. The existing account in the session will be replaced.\n"
     ]
    }
   ],
   "source": [
    "# Load IBMQ cloud-based QASM simulator \n",
    "provider = IBMQ.load_account()\n",
    "backend = provider.backend.ibmq_qasm_simulator"
   ]
  },
  {
   "cell_type": "markdown",
   "metadata": {},
   "source": [
    "### Quantum circuit helper functions"
   ]
  },
  {
   "cell_type": "code",
   "execution_count": 74,
   "metadata": {},
   "outputs": [],
   "source": [
    "def random_bitstring_circuit(n_qubits: int) -> QuantumCircuit:\n",
    "    \"\"\"\n",
    "    Args:\n",
    "        n_qubits: desired number of qubits in the bitstring\n",
    "    Returns:\n",
    "        QuantumCircuit: creates a random bitstring from the ground state\n",
    "    \"\"\"\n",
    "    qc = QuantumCircuit(n_qubits)\n",
    "    # Generate random bitstring\n",
    "    random_bitstring = np.random.randint(2, size=n_qubits)\n",
    "    # Apply X gate to nonzero qubits in bitstring\n",
    "    for i in range(n_qubits):\n",
    "        if random_bitstring[i]:\n",
    "            qc.x(i)\n",
    "    return qc"
   ]
  },
  {
   "cell_type": "code",
   "execution_count": 298,
   "metadata": {},
   "outputs": [],
   "source": [
    "def floquet_circuit(n_qubits: int, g: float) -> QuantumCircuit:\n",
    "    \"\"\"\n",
    "    Args:\n",
    "        n_qubits: number of qubits\n",
    "        g: parameter controlling amount of x-rotation\n",
    "    Returns:\n",
    "        QuantumCircuit: circuit implementation of the unitary operator U_f as \n",
    "            detailed in https://arxiv.org/pdf/2107.13571.pdf\n",
    "    \"\"\"\n",
    "    \n",
    "    qc = QuantumCircuit(n_qubits)\n",
    "    \n",
    "    # X rotation by g*pi on all qubits (simulates the periodic driving pulse)\n",
    "    for i in range(n_qubits):\n",
    "        qc.rx(g*np.pi, i)\n",
    "        \n",
    "    qc.barrier()\n",
    "        \n",
    "    # Ising interaction (only couples adjacent spins with random coupling strengths)\n",
    "    for i in range(0, n_qubits-1, 2):\n",
    "        phi = np.random.uniform(low=0.5, high=1.5)\n",
    "        theta = -phi * np.pi / 2\n",
    "        qc.rzz(theta, i, i+1)\n",
    "    for i in range(1, n_qubits-1, 2):\n",
    "        phi = np.random.uniform(low=0.5, high=1.5)\n",
    "        theta = -phi * np.pi / 2\n",
    "        qc.rzz(theta, i, i+1)\n",
    "        \n",
    "    qc.barrier()\n",
    "        \n",
    "    # Longitudinal fields for disorder\n",
    "    for i in range(n_qubits):\n",
    "        h = np.random.uniform(low=-1, high=1)\n",
    "        qc.rz(h * np.pi, i)\n",
    "        \n",
    "    return qc"
   ]
  },
  {
   "cell_type": "markdown",
   "metadata": {},
   "source": [
    "### Measurement statistics helper functions"
   ]
  },
  {
   "cell_type": "code",
   "execution_count": 265,
   "metadata": {},
   "outputs": [],
   "source": [
    "def calculate_mean_polarization(n_qubits: int, counts: dict, q_index: int) -> float:\n",
    "    \"\"\"\n",
    "    Args:\n",
    "        n_qubits: total number of qubits\n",
    "        counts: dictionary of bitstring measurement outcomes and their respective total counts\n",
    "        q_index: index of qubit whose expected polarization we want to calculate\n",
    "    Returns:\n",
    "        float: the mean Z-polarization <Z>, in [-1, 1], of the qubit at q_index\n",
    "    \"\"\"\n",
    "    run, num_shots = 0, 0\n",
    "    for bitstring in counts.keys():\n",
    "        val = 1 if (int(bitstring[n_qubits-q_index-1]) == 0) else -1\n",
    "        run += val * counts[bitstring]\n",
    "        num_shots += counts[bitstring]\n",
    "    return run / num_shots"
   ]
  },
  {
   "cell_type": "code",
   "execution_count": 266,
   "metadata": {},
   "outputs": [],
   "source": [
    "def calculate_two_point_correlations(series: list) -> list:\n",
    "    \"\"\"\n",
    "    Args:\n",
    "        series: time-ordered list of expectation values for some random variable\n",
    "    Returns:\n",
    "        list: two point correlations <f(0)f(t)> of the random variable evaluated at all t>0\n",
    "    \"\"\"\n",
    "    n = len(series)\n",
    "    data = np.asarray(series)\n",
    "    mean = np.mean(data)\n",
    "    c0 = np.sum((data - mean) ** 2) / float(n)\n",
    "\n",
    "    def r(h):\n",
    "        acf_lag = ((data[:n - h] - mean) * (data[h:] - mean)).sum() / float(n) / c0\n",
    "        return round(acf_lag, 3)\n",
    "    \n",
    "    x = np.arange(n) # Avoiding lag 0 calculation\n",
    "    acf_coeffs = list(map(r, x))\n",
    "    return acf_coeffs"
   ]
  },
  {
   "cell_type": "markdown",
   "metadata": {},
   "source": [
    "### Master simulation function"
   ]
  },
  {
   "cell_type": "code",
   "execution_count": 267,
   "metadata": {},
   "outputs": [],
   "source": [
    "def simulate(n_qubits: int, initial_state: QuantumCircuit, max_time_steps: int, g: float) -> None:\n",
    "    \n",
    "    mean_polarizations = np.zeros((n_qubits, max_time_steps+1))\n",
    "    floq_qc = floquet_circuit(n_qubits, g)\n",
    "    \n",
    "    for t in range(0, max_time_steps+1):\n",
    "        if ((t % 5) == 0):\n",
    "            print('Time t=%d' % t)\n",
    "        qc = QuantumCircuit(n_qubits)\n",
    "        qc = qc.compose(initial_state)\n",
    "        for i in range(t):\n",
    "            qc = qc.compose(floq_qc)\n",
    "        qc.measure_all()\n",
    "        transpiled = transpile(qc, backend)\n",
    "        job = backend.run(transpiled)\n",
    "        retrieved_job = backend.retrieve_job(job.job_id())\n",
    "        counts = retrieved_job.result().get_counts()\n",
    "        \n",
    "        for qubit in range(n_qubits):\n",
    "            mean_polarizations[qubit,t] = calculate_mean_polarization(n_qubits, counts, q_index=qubit)  \n",
    "        \n",
    "    return mean_polarizations"
   ]
  },
  {
   "cell_type": "markdown",
   "metadata": {},
   "source": [
    "### Simulate thermal regime (g=0.6) for 50 timesteps"
   ]
  },
  {
   "cell_type": "code",
   "execution_count": 289,
   "metadata": {},
   "outputs": [],
   "source": [
    "polarized_state = QuantumCircuit(N_QUBITS) # All qubits in |0> state"
   ]
  },
  {
   "cell_type": "code",
   "execution_count": 300,
   "metadata": {},
   "outputs": [
    {
     "name": "stdout",
     "output_type": "stream",
     "text": [
      "Time t=0\n",
      "Time t=5\n",
      "Time t=10\n",
      "Time t=15\n",
      "Time t=20\n",
      "Time t=25\n",
      "Time t=30\n",
      "Time t=35\n",
      "Time t=40\n",
      "Time t=45\n",
      "Time t=50\n"
     ]
    }
   ],
   "source": [
    "thermal_z = simulate(n_qubits=N_QUBITS,\n",
    "                     initial_state=polarized_state,\n",
    "                     max_time_steps=50,\n",
    "                     g=0.6)"
   ]
  },
  {
   "cell_type": "code",
   "execution_count": 291,
   "metadata": {},
   "outputs": [
    {
     "data": {
      "image/png": "[encoded data removed]",
      "text/plain": [
       "<Figure size 720x720 with 2 Axes>"
      ]
     },
     "metadata": {
      "needs_background": "light"
     },
     "output_type": "display_data"
    }
   ],
   "source": [
    "fig, ax = plt.subplots(figsize=(10,10))\n",
    "im = ax.matshow(thermal_z, cmap='viridis')\n",
    "\n",
    "plt.rcParams.update({'font.size': 15})\n",
    "plt.rcParams['text.usetex'] = True\n",
    "\n",
    "ax.set_xlabel('Floquet cycles (t)')\n",
    "ax.xaxis.labelpad = 10\n",
    "ax.set_ylabel('Qubit')\n",
    "ax.set_xticks(np.arange(0, 51, 10))\n",
    "ax.set_yticks(np.arange(0, N_QUBITS, 5))\n",
    "ax.xaxis.set_label_position('top')\n",
    "\n",
    "im.set_clim(-1, 1)\n",
    "cbar = plt.colorbar(im, fraction=0.018, pad=0.04)\n",
    "cbar.set_label(r'$\\langle Z(t) \\rangle$')\n",
    "plt.show()"
   ]
  },
  {
   "cell_type": "code",
   "execution_count": 294,
   "metadata": {},
   "outputs": [
    {
     "data": {
      "text/plain": [
       "Text(0, 0.5, '$\\\\langle Z(t) \\\\rangle$')"
      ]
     },
     "execution_count": 294,
     "metadata": {},
     "output_type": "execute_result"
    },
    {
     "data": {
      "image/png": "[encoded data removed]",
      "text/plain": [
       "<Figure size 432x288 with 1 Axes>"
      ]
     },
     "metadata": {
      "needs_background": "light"
     },
     "output_type": "display_data"
    }
   ],
   "source": [
    "plt.plot(thermal_z[10,:], 'bs-')\n",
    "plt.xlabel('Floquet cycles (t)')\n",
    "plt.tick_params(axis=\"x\", bottom=True, top=False, labelbottom=True, labeltop=False)\n",
    "plt.ylabel(r'$\\langle Z(t) \\rangle$')"
   ]
  },
  {
   "cell_type": "markdown",
   "metadata": {},
   "source": [
    "### Simulate MBL-DTC regime (g=0.96) for 50 timesteps"
   ]
  },
  {
   "cell_type": "code",
   "execution_count": null,
   "metadata": {},
   "outputs": [],
   "source": [
    "dtc_z = simulate(n_qubits=N_QUBITS, \n",
    "                 initial_state=polarized_state,\n",
    "                 max_time_steps=50,\n",
    "                 g=0.96)"
   ]
  },
  {
   "cell_type": "code",
   "execution_count": null,
   "metadata": {},
   "outputs": [],
   "source": [
    "fig, ax = plt.subplots(figsize=(10,10))\n",
    "im = ax.matshow(dtc_z, cmap='viridis')\n",
    "\n",
    "plt.rcParams.update({'font.size': 15})\n",
    "plt.rcParams['text.usetex'] = True\n",
    "\n",
    "ax.set_xlabel('Floquet cycles (t)')\n",
    "ax.xaxis.labelpad = 10\n",
    "ax.set_ylabel('Qubit')\n",
    "ax.set_xticks(np.arange(0, 51, 10))\n",
    "ax.set_yticks(np.arange(0, N_QUBITS, 5))\n",
    "ax.xaxis.set_label_position('top')\n",
    "\n",
    "im.set_clim(-1, 1)\n",
    "cbar = plt.colorbar(im, fraction=0.018, pad=0.04)\n",
    "cbar.set_label(r'$\\langle Z(t) \\rangle$')\n",
    "plt.show()"
   ]
  },
  {
   "cell_type": "code",
   "execution_count": null,
   "metadata": {},
   "outputs": [],
   "source": [
    "plt.plot(dtc_z[10,:], 'bs-')\n",
    "plt.xlabel('Floquet cycles (t)')\n",
    "plt.tick_params(axis=\"x\", bottom=True, top=False, labelbottom=True, labeltop=False)\n",
    "plt.ylabel(r'$\\langle Z(t) \\rangle$')"
   ]
  }
 ],
 "metadata": {
  "kernelspec": {
   "display_name": "Python 3",
   "language": "python",
   "name": "python3"
  },
  "language_info": {
   "codemirror_mode": {
    "name": "ipython",
    "version": 3
   },
   "file_extension": ".py",
   "mimetype": "text/x-python",
   "name": "python",
   "nbconvert_exporter": "python",
   "pygments_lexer": "ipython3",
   "version": "3.7.6"
  }
 },
 "nbformat": 4,
 "nbformat_minor": 4
}
